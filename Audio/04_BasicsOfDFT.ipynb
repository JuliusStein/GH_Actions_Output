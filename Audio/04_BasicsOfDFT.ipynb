{
 "cells": [
  {
   "cell_type": "raw",
   "id": "a74bf410",
   "metadata": {
    "raw_mimetype": "text/restructuredtext"
   },
   "source": [
    ".. meta::\n",
    "   :description: Topic: Discrete Fourier Transforms, Category: Exercises\n",
    "   :keywords: applications, examples, dft, Fourier spectrum"
   ]
  },
  {
   "cell_type": "markdown",
   "id": "6d40d5af",
   "metadata": {},
   "source": [
    "<div class=\"alert alert-warning\">\n",
    "\n",
    "**Source Material**:\n",
    "\n",
    "The following exercises are adapted from Chapter 7 of [Mark Newman's book, \"Computational Physics\"](http://www-personal.umich.edu/~mejn/cp/).\n",
    "\n",
    "</div>\n"
   ]
  },
  {
   "cell_type": "markdown",
   "id": "178219ed",
   "metadata": {
    "code_folding": [
     0,
     11
    ]
   },
   "source": [
    "# Exercises: Basics of DFTs\n"
   ]
  },
  {
   "cell_type": "code",
   "execution_count": null,
   "id": "42846cbb",
   "metadata": {},
   "outputs": [],
   "source": [
    "import numpy as np\n",
    "import matplotlib.pyplot as plt\n",
    "from typing import Union, Tuple, Sequence\n",
    "\n",
    "%matplotlib notebook"
   ]
  },
  {
   "cell_type": "markdown",
   "id": "b87220a0",
   "metadata": {},
   "source": [
    "(1.4.1) Write a function that performs a discrete Fourier transform on a *real-valued* signal containing $N$ samples: $(y_n)_{n=0}^{N-1} \\rightarrow  (c_k)_{k=0}^{\\left\\lfloor \\frac{N}{2} \\right\\rfloor}$\n",
    "\n",
    "This should produce identical results to `numpy.fft.rfft`."
   ]
  },
  {
   "cell_type": "code",
   "execution_count": null,
   "id": "31f8445e",
   "metadata": {
    "code_folding": []
   },
   "outputs": [],
   "source": [
    "def py_dft(samples: Sequence[float]) -> np.ndarray:\n",
    "    \"\"\"Performs a Discrete Fourier Transform (type-1) for\n",
    "    real-valued data.\n",
    "\n",
    "    Parameters\n",
    "    ----------\n",
    "    samples : Sequence[float]\n",
    "        N evenly-spaced, real-valued numbers\n",
    "\n",
    "    Returns\n",
    "    -------\n",
    "    numpy.ndarray, shape-(N//2 + 1,)\n",
    "        The N//2 + 1 complex-valued Fourier coefficients describing `samples`\"\"\"\n",
    "    # STUDENT CODE HERE"
   ]
  },
  {
   "cell_type": "markdown",
   "id": "aa8bed43",
   "metadata": {},
   "source": [
    "Consider the sine wave with frequency $f$\n",
    "\n",
    "\\begin{equation}\n",
    "g(t) = \\sin(2 \\pi f t)\n",
    "\\end{equation}\n",
    "\n",
    "Let's assume that $f = \\frac{1}{150}\\;\\mathrm{Hz}$ (recall: $\\mathrm{Hz}=\\frac{1}{\\mathrm{seconds}}$).\n",
    "Thus the period of the wave is $T_{\\text{period}} = 1/f = 150$ seconds.\n",
    "\n",
    "(1.4.2) Using Euler's formula, $e^{ix} = \\cos{x} + i\\sin{x}$, write this sine wave in terms of complex-valued exponentials (i.e. using $e^{ix}$).\n",
    "Notice that this represents a very simple Fourier series, one in which only a single frequency is present.\n",
    "\n",
    "> 1.4.2 Solution: *SOLUTION HERE*"
   ]
  },
  {
   "cell_type": "markdown",
   "id": "f9e85ab5",
   "metadata": {},
   "source": [
    "(1.4.3) Take $N=100$ samples of this sine wave over four complete periods of oscillation.\n",
    "That is, create an array of $t_{n} = \\frac{n}{N}T$ for $n = 0, 1, ... N-1$, where $T = 4T_{\\text{period}}$, and create a corresponding array of $y_{n} = f(t_{n})$ ."
   ]
  },
  {
   "cell_type": "code",
   "execution_count": null,
   "id": "dab033ad",
   "metadata": {},
   "outputs": [],
   "source": [
    "# STUDENT CODE HERE"
   ]
  },
  {
   "cell_type": "markdown",
   "id": "b2fd8ba4",
   "metadata": {},
   "source": [
    "Now plot the sampled signal, $y_{n}$, based on the following code.\n",
    "\n",
    "```python\n",
    "fig, ax = plt.subplots()\n",
    "ax.plot(t, samples, marker='x')\n",
    "ax.grid()\n",
    "ax.set_xlabel(\"t (seconds)\")\n",
    "```"
   ]
  },
  {
   "cell_type": "code",
   "execution_count": null,
   "id": "d8c84346",
   "metadata": {},
   "outputs": [],
   "source": [
    "# STUDENT CODE HERE"
   ]
  },
  {
   "cell_type": "markdown",
   "id": "87b7b8e7",
   "metadata": {
    "code_folding": [
     11
    ]
   },
   "source": [
    "(1.4.4) Perform a real-valued DFT of the sampled wave-form, obtaining $c_{k}$.\n",
    "How many Fourier-coefficients will be produced?\n",
    "Verify that numpy's FFT (for real-valued signals), `np.fft.rfft`, returns the same results as your DFT;\n",
    "you can use the function `numpy.allclose` to compare your array of coefficients with those produced by `np.fft.rfft`."
   ]
  },
  {
   "cell_type": "code",
   "execution_count": null,
   "id": "c8b22b4d",
   "metadata": {},
   "outputs": [],
   "source": [
    "# STUDENT CODE HERE"
   ]
  },
  {
   "cell_type": "markdown",
   "id": "8a8b2c0d",
   "metadata": {},
   "source": [
    "(1.4.5) Recall that $k$ takes on integer values $0, 1, ..., \\big\\lfloor\\frac{N}{2}\\big\\rfloor$.\n",
    "Convert each $k$ value into frequency, $\\nu_{k}$, with units of Hz.\n",
    "\n",
    "Similarly, $n$ takes on integer values: $0, 1, ..., N - 1$.\n",
    "Convert $n$ into time, $t_{n}$, with units of seconds.\n",
    "\n",
    "> 1.4.5 Solution: *SOLUTION HERE*"
   ]
  },
  {
   "cell_type": "code",
   "execution_count": null,
   "id": "b3657f08",
   "metadata": {},
   "outputs": [],
   "source": [
    "# STUDENT CODE HERE"
   ]
  },
  {
   "cell_type": "markdown",
   "id": "da677fc1",
   "metadata": {},
   "source": [
    "(1.4.6) What should the plot of $|a_{k}|$ vs $\\nu_{k}$, look like, considering the form of the original signal that we sampled?\n",
    "\n",
    "- Should there be one peak? Multiple peaks?\n",
    "- At what value(s) of $k$ should the peak(s) reside?\n",
    "- What should the value(s) of $\\varphi'_k$ at the peak(s) be?\n",
    "\n",
    "> 1.4.6 Solution: *SOLUTION HERE*\n"
   ]
  },
  {
   "cell_type": "markdown",
   "id": "16b31072",
   "metadata": {},
   "source": [
    "Now, using $(c_k)_{k=0}^{\\left\\lfloor \\frac{N}{2} \\right\\rfloor}$, compute $(|a_k|)_{k=0}^{\\left\\lfloor \\frac{N}{2} \\right\\rfloor}$ and $(\\varphi'_k)_{k=0}^{\\left\\lfloor \\frac{N}{2} \\right\\rfloor}$.\n",
    "Plot the Fourier spectrum $|a_{k}|$ vs $\\nu_{k}$, along with a vertical line where you predict the peak to occur. Use the following pseudocode to help you with your plot:\n",
    "\n",
    "```python\n",
    "fig, ax = plt.subplots()\n",
    "expected_peak_freq = ???\n",
    "\n",
    "# plots Fourier spectrum\n",
    "ax.stem(freqs, amps, basefmt=\" \", use_line_collection=True)\n",
    "\n",
    "# plots a vertical line at the frequency corresponding to our sine wave\n",
    "ax.vlines(expected_peak_freq, 0, 1.0, lw=5, alpha=0.5, ls=\"--\", color=\"black\")\n",
    "\n",
    "# make the plot look nice\n",
    "ax.set_xlim(0, 0.03)\n",
    "ax.grid(True)\n",
    "ax.set_ylabel(r\"$| a_{k} |$\")\n",
    "ax.set_xlabel(\"Frequency (Hz)\");\n",
    "```"
   ]
  },
  {
   "cell_type": "code",
   "execution_count": null,
   "id": "04f9cbeb",
   "metadata": {},
   "outputs": [],
   "source": [
    "# STUDENT CODE HERE"
   ]
  },
  {
   "cell_type": "markdown",
   "id": "ca3bf324",
   "metadata": {},
   "source": [
    "The peak-valued coefficient, $c_{k_{\\text{peak}}}$, should be the only non-zero coefficient.\n",
    "What is this telling us?\n",
    "This says that the samples of our pure sinusoid is described by the following summation (inverse DFT) where all but two of the terms are zero:\n",
    "\n",
    "\\begin{align}\n",
    "\\sin(2\\pi t_n) &= \\frac{1}{N}\\sum_{k=0}^{N-1}{c_{k}e^{i 2\\pi\\frac{k}{T}t_n}} = 0\\;+ ... + \\frac{1}{N} c_{k_{\\text{peak}}}e^{i 2 \\pi f t_n} + 0\\;+ ... +\\; \\frac{1}{N} c^{*}_{k_{\\text{peak}}}e^{-i 2 \\pi f t_n};\\;\\; n \\in [0, 1, \\dots, N-1]\\\\\n",
    "&= \\frac{1}{N}(c_{k_{\\text{peak}}}e^{i 2\\pi\\frac{k_{\\text{peak}}}{T}t_n} + c^{*}_{k_{\\text{peak}}}e^{-i 2\\pi\\frac{k_{\\text{peak}}}{T}t_n});\\;\\; n \\in [0, 1, \\dots, N-1]\n",
    "\\end{align}\n",
    "\n",
    "Earlier, we rewrote $\\sin(2\\pi t)$ in terms of complex-valued exponentials; let's rewrite the left side of this equation – $\\sin(2\\pi t_n)$ — in the same way\n",
    "\n",
    "\\begin{equation}\n",
    "\\sin(2\\pi t_n) = \\frac{1}{2i}e^{i 2 \\pi f t_n} + \\frac{-1}{2i}e^{-i 2 \\pi f t_n}\n",
    "\\end{equation}\n",
    "\n",
    "\n",
    "Given that these two expressions are equal, we have:\n",
    "\\begin{equation}\n",
    "\\frac{1}{2i}e^{i 2 \\pi f t_n} + \\frac{-1}{2i}e^{-i 2 \\pi f t_n} = \\frac{1}{N}(c_{k_{\\text{peak}}}e^{i 2\\pi\\frac{k_{\\text{peak}}}{T}t_n} + c^{*}_{k_{\\text{peak}}}e^{-i 2\\pi\\frac{k_{\\text{peak}}}{T}t_n});\\;\\; n \\in [0, 1, \\dots, N-1]\n",
    "\\end{equation}\n",
    "\n",
    "\n",
    "(1.4.7) Given this expression, what should $c_{k_{\\text{peak}}}$ be equal to? What should $k_{\\text{peak}}$ be equal to?\n",
    "\n",
    "Verify that the values for $c_{k_{\\text{peak}}}$ and $k_{\\text{peak}}$ produced by your DFT match the values that you predict."
   ]
  },
  {
   "cell_type": "markdown",
   "id": "0521c59c",
   "metadata": {},
   "source": [
    "> 1.4.5 Solution: *SOLUTION HERE*"
   ]
  },
  {
   "cell_type": "code",
   "execution_count": null,
   "id": "2b1ef9b2",
   "metadata": {},
   "outputs": [],
   "source": [
    "# STUDENT CODE HERE"
   ]
  },
  {
   "cell_type": "markdown",
   "id": "6dcf09a6",
   "metadata": {},
   "source": [
    "(1.4.8) Use `np.fft.irfft` to compute the *exact* inverse DFT and verify that it recovers the original sampled data."
   ]
  },
  {
   "cell_type": "code",
   "execution_count": null,
   "id": "902de045",
   "metadata": {},
   "outputs": [],
   "source": [
    "# STUDENT CODE HERE"
   ]
  },
  {
   "cell_type": "markdown",
   "id": "ac36ae70",
   "metadata": {},
   "source": [
    "(1.4.9) Return to the \"Audio Signals Basics\" notebook and copy the code that you used to sample and plot the major triad:\n",
    "\n",
    " - $523.25\\;\\mathrm{Hz}$ (C)\n",
    " - $659.25\\;\\mathrm{Hz}$ (E)\n",
    " - $783.99\\;\\mathrm{Hz}$ (G)\n",
    "\n",
    "where each pure tone has an amplitude of $1\\:\\mathrm{Pascal}$."
   ]
  },
  {
   "cell_type": "markdown",
   "id": "d31f96be",
   "metadata": {},
   "source": [
    "Sample $0.5$ seconds of this analog signal using a sample rate of $2000\\;\\mathrm{Hz}$.\n",
    "Take the discrete Fourier transform of the resulting digital signal. Plot the magnitudes of the Fourier coefficients as a function of frequency: $|a_{k}|$ vs $\\nu_{k}$.\n",
    "What are the significance of the peaks that you see?\n",
    "What information does this plot provide us with that a plot of the wave form doesn't?\n",
    "\n",
    "Are these peaks \"perfect\" as we saw above? I.e. are they confined to individual $k$-values or do they have a \"thickness\" across multiple $k$-values?\n",
    "What might be a cause for this phenomenon?\n",
    "\n",
    "Use `ax.set_xlim(400, 1000)` to limit the x-values plotted to be between $400\\;\\mathrm{Hz}$ and $1000\\;\\mathrm{Hz}$."
   ]
  },
  {
   "cell_type": "code",
   "execution_count": null,
   "id": "3f758bfb",
   "metadata": {},
   "outputs": [],
   "source": [
    "# STUDENT CODE HERE"
   ]
  }
 ],
 "metadata": {
  "jupytext": {
   "cell_metadata_json": true,
   "notebook_metadata_filter": "nbsphinx"
  },
  "kernelspec": {
   "display_name": "Python 3",
   "language": "python",
   "name": "python3"
  },
  "nbsphinx": {
   "execute": "never"
  }
 },
 "nbformat": 4,
 "nbformat_minor": 5
}
