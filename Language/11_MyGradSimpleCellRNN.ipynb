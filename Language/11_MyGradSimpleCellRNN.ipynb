{
 "cells": [
  {
   "cell_type": "code",
   "execution_count": null,
   "id": "4e85d5ef",
   "metadata": {},
   "outputs": [],
   "source": [
    "from collections import defaultdict\n",
    "\n",
    "import numpy as np\n",
    "\n",
    "from mynn.layers.dense import dense\n",
    "from mynn.optimizers.adam import Adam\n",
    "\n",
    "from mygrad.nnet.losses import softmax_crossentropy\n",
    "from mygrad.nnet.initializers import glorot_normal\n",
    "from mygrad.nnet.activations import relu\n",
    "\n",
    "import mygrad as mg\n",
    "import matplotlib.pyplot as plt\n",
    "\n",
    "%matplotlib notebook"
   ]
  },
  {
   "cell_type": "markdown",
   "id": "d86f99db",
   "metadata": {},
   "source": [
    "# Simple RNN Cell in MyGrad --\n",
    "\n",
    "In this notebook, we will implement a simple RNN model that can be used for sequence classification problems.\n",
    "We'll apply this RNN to the **classification problem of determining if a sequence of digits (0-9) is the concatentation of two identical halves.**\n",
    "\n",
    "For example:\n",
    "- `[1, 2, 3, 1, 2, 3]` -> contains identical halves\n",
    "- `[1, 9, 2, 1, 8, 3]` -> does not contain identical halves\n",
    "\n",
    "Our model will take a single sequence of data ($x$) of shape $(T, C)$, where $T$ is the length of our sequence and $C$ is the dimensionality of each entry in our sequence, and produce $K$ classification scores (assuming there are $K$ classes for the problem).\n",
    "\n",
    "In the context of word-embeddings, if each word in our vocabulary has a 50-dimensional word-embedding representation, and we have with a sentence containing 8 words, then $x$ would have a shape $(8, 50$) - representing that sentence numerically. Our model would produce $K$ classification scores for this input data.\n",
    "\n",
    "**The actual problem that we are solving is the following:**\n",
    "> Given a sequence of digits, return 1  if the first half and second half of a sequence are identical and 0 otherwise.\n",
    "\n",
    "We'll be using the following update equations for a simple RNN cell:\n",
    "<br/>\n",
    "<br/>\n",
    "&nbsp;&nbsp;&nbsp;&nbsp;&nbsp; $h_t = ReLU(x_t W_{xh} + h_{t-1} W_{hh} + b_h)$\n",
    "<br/>\n",
    "&nbsp;&nbsp;&nbsp;&nbsp;&nbsp; $y_{T-1} = h_{T-1} W_{hy} + b_y$\n",
    "\n",
    "where $h_t$ is the hidden (or recurrent) state of the cell and $x_t$ is the sequence-element at step-$t$, for $t=0, 1, \\dots, T-1$. ($T$ is the length of our sequence.) $y_{T-1}$ is the output. The $W$ and $b$ parameters are the *learnable parameters of our model*. Specifically:\n",
    "\n",
    "- $x_t$ is a descriptor-vector for entry-$t$ in our sequence of data. It has a shape-$(1, C)$.\n",
    "- $h_t$ is a \"hidden-descriptor\", which encodes information about $x_t$ *and* information about the preceding entries in our sequence of data, via $h_{t-1}$. It has a shape-$(1, D)$, where $D$ is the dimensionality that we choose for our hidden descriptors (akin to layer size).\n",
    "- $W_{xh}$ and $b_h$ hold dense-layer weights and biases, respectively, which are used to process our data $x_t$ in order to form $h_t$. Thus $W_{xh}$ has shape $(C, D)$ and $b_h$ has shape-$(1,D)$.\n",
    "- $W_{hh}$ hold dense-layer weights, which are used to process our previous hidden-descriptor $h_{t-1}$ in order to form $h_t$. Thus $W_{hh}$ has shape $(D, D)$.\n",
    "- $W_{hy}$ and $b_y$ hold dense-layer weights and biases, respectively, which are used to process our final hidden-descriptor $h_T$ in order to produce our classification scores, $y_T$. Thus $W_{hy}$ has shape $(D, K)$ and $b_h$ has shape-$(1,K)$. Where $K$ is our number of classes. See that, given our input sequence $x$, we are ultimately producing $y_{T-1}$ of shape-$(1, K)$.\n",
    "\n",
    "The basic idea is to have the forward pass in the model iterate over all elements in the input sequence, applying the update equations at each step.\n",
    "\n",
    "Then we'll compute the loss between the final output $y_{T-1}$ and the target classification, perform backpropagation through the computational graph to compute gradients (known as \"backpropagation through time\" or \"BPTT\" in RNNs), and update parameters using some form of gradient descent.\n",
    "\n"
   ]
  },
  {
   "cell_type": "markdown",
   "id": "1a569698",
   "metadata": {},
   "source": [
    "## Define Recurrent Model Class\n",
    "\n",
    "First create a recurrent model class using MyGrad and MyNN with the following properties:\n",
    "* `__init__`\n",
    " * Takes three parameters: dim_input ($C$), dim_recurrent ($D$), dim_output ($K$)\n",
    " * Creates three dense layers (required for update equations)\n",
    "  * Note: one of the dense layers doesn't need a bias since it would be redundant. You can specify `bias=False` when initializing your dense layer.\n",
    "  * You can leave the bias out of the dense layer corresponding to $W_{hh}$\n",
    "* `__call__`\n",
    " * Creates the initial hidden state ($h_{t=-1}$) as an array of zeros, shape-(1, D)\n",
    " * Iterates over the $T$-axis (rows) of the input sequence $x$ and computes the successive hidden states $h_{t=0}, h_{t=1} \\cdots, h_{t={T-1}}$\n",
    " * After processing the all $T$ items in your sequence, computes/returns final output $y_{T-1}$\n",
    "* `parameters`\n",
    " * Returns the tuple of all the learnable parameters in your model.\n",
    "\n",
    "\n",
    "As usual, we will feed our `(1, K)` scores to softmax-crossentropy loss, thus there is no need for an activation function on $y_{T-1}$, since softmax is built in to the loss.\n",
    "\n",
    "Use `glorot_normal` for your dense weight initializations."
   ]
  },
  {
   "cell_type": "code",
   "execution_count": null,
   "id": "395a3522",
   "metadata": {},
   "outputs": [],
   "source": [
    "class RNN():\n",
    "    \"\"\"Implements a simple-cell RNN that produces a single output at the\n",
    "    end of the sequence of input data.\"\"\"\n",
    "    def __init__(self, dim_input, dim_recurrent, dim_output):\n",
    "        \"\"\" Initializes all layers needed for RNN\n",
    "\n",
    "        Parameters\n",
    "        ----------\n",
    "        dim_input: int\n",
    "            Dimensionality of data passed to RNN (C)\n",
    "\n",
    "        dim_recurrent: int\n",
    "            Dimensionality of hidden state in RNN (D)\n",
    "\n",
    "        dim_output: int\n",
    "            Dimensionality of output of RNN (K)\n",
    "        \"\"\"\n",
    "        # Initialize one dense layer for each matrix multiplication that appears\n",
    "        # in the simple-cell RNN equation; name these \"layers\" in ways that make\n",
    "        # their correspondence to the equation obvious\n",
    "        # STUDENT CODE HERE\n",
    "\n",
    "\n",
    "    def __call__(self, x):\n",
    "        \"\"\" Performs the full forward pass for the RNN.\n",
    "\n",
    "        Note that we only care about the last y - the final classification scores for the full sequence.\n",
    "\n",
    "\n",
    "        Parameters\n",
    "        ----------\n",
    "        x: Union[numpy.ndarray, mygrad.Tensor], shape=(T, C)\n",
    "            The one-hot encodings for the sequence\n",
    "\n",
    "        Returns\n",
    "        -------\n",
    "        mygrad.Tensor, shape=(1, K)\n",
    "            The final classification scores, produced at the end of the sequence\n",
    "        \"\"\"\n",
    "        # Initialize the hidden state h_{t=-1} as zeros\n",
    "        #\n",
    "        # You will want to loop over each x_t to compute the corresponding h_t.\n",
    "        #\n",
    "        # A standard for-loop is appropriate here. Be mindful of what the shape\n",
    "        # of x_t should be versus the shape of the item that it produced by the\n",
    "        # for-loop.\n",
    "        #\n",
    "        # Note that you can do a for-loop over a mygrad-tensor and it will\n",
    "        # produce sub-tensors that are tracked by the computational graph.\n",
    "        # I.e. mygrad will be able to still \"backprop\" through your for-loop!\n",
    "        # STUDENT CODE HERE\n",
    "\n",
    "\n",
    "    @property\n",
    "    def parameters(self):\n",
    "        \"\"\" A convenience function for getting all the parameters of our model.\n",
    "\n",
    "        This can be accessed as an attribute, via `model.parameters`\n",
    "\n",
    "        Returns\n",
    "        -------\n",
    "        Tuple[Tensor, ...]\n",
    "            A tuple containing all of the learnable parameters for our model\n",
    "        \"\"\"\n",
    "        # STUDENT CODE HERE"
   ]
  },
  {
   "cell_type": "markdown",
   "id": "341beac7",
   "metadata": {},
   "source": [
    "## Data Generation\n",
    "\n",
    "We'll apply this new network to the **problem of determining if a sequence of digits (0-9) is the concatentation of two identical halves.**\n",
    "\n",
    "For example:\n",
    "- `[1, 2, 3, 1, 2, 3]` -> contains identical halves\n",
    "- `[1, 9, 2, 1, 8, 3]` -> does not contain identical halves\n",
    "\n",
    "We will be representing each digit using the so-called \"**one-hot encoding**\"\n",
    " * 0 $\\longrightarrow$ [1, 0, 0, 0, 0, 0, 0, 0, 0, 0, 0]\n",
    " * 1 $\\longrightarrow$ [0, 1, 0, 0, 0, 0, 0, 0, 0, 0, 0]\n",
    " * 2 $\\longrightarrow$ [0, 0, 1, 0, 0, 0, 0, 0, 0, 0, 0]\n",
    " * 3 $\\longrightarrow$ [0, 0, 0, 1, 0, 0, 0, 0, 0, 0, 0]\n",
    " * $\\vdots$\n",
    " * 9 $\\longrightarrow$ [0, 0, 0, 0, 0, 0, 0, 0, 0, 0, 1]\n",
    "\n",
    "Thus a sequence of $T$ one-hot encoded digits will be represented by a shape-$(T,C=10)$ array.\n",
    "\n",
    "For example, the sequence\n",
    "```python\n",
    "# length-4 sequence\n",
    "array([2, 0, 2, 0])\n",
    "```\n",
    "Would have the one-hot encoding\n",
    "```python\n",
    "# shape-(4, 10)\n",
    "array([[ 0.,  0.,  1.,  0.,  0.,  0.,  0.,  0.,  0.,  0.],\n",
    "       [ 1.,  0.,  0.,  0.,  0.,  0.,  0.,  0.,  0.,  0.],\n",
    "       [ 0.,  0.,  1.,  0.,  0.,  0.,  0.,  0.,  0.,  0.],\n",
    "       [ 1.,  0.,  0.,  0.,  0.,  0.,  0.,  0.,  0.,  0.]])\n",
    "```\n",
    "\n",
    "Create a function to generate a sample sequence that does the following:\n",
    "* allows you to specify min and max pattern length\n",
    "* randomly chooses a pattern length in the specified range\n",
    "* randomly generates a sequence of integers (0 through 9) of that length\n",
    "* sets first half of sequence equal to pattern\n",
    "* randomly chooses whether first and second half of sequence should match or not (with probability 0.5)\n",
    "* creates second half of sequence accordingly\n",
    "* creates float32 numpy array `x` of shape (T, 10) where row i is one-hot encoding of item i in sequence\n",
    "* creates int16 numpy array `y` of shape (1,) where `y = array([1])` if the patterns match and `array([0])` otherwise\n",
    "* returns `(x, y, sequence)` (note that sequence is returned mainly just for debugging)\n",
    "\n",
    "Note: `np.random.rand() < 0.5` returns `True` with 50% probability. This will come in handy!\n",
    "\n",
    "For example, if you randomly generate the sequence [2, 0, 2, 0] (which has a pattern-length of 2, whose first half does match the second half, which should occur 50% of the time), the output of your function should be:\n",
    "```python\n",
    "# x: one-hot encoded version of the sequence, shape-(4,10)\n",
    "array([[ 0.,  0.,  1.,  0.,  0.,  0.,  0.,  0.,  0.,  0.],\n",
    "       [ 1.,  0.,  0.,  0.,  0.,  0.,  0.,  0.,  0.,  0.],\n",
    "       [ 0.,  0.,  1.,  0.,  0.,  0.,  0.,  0.,  0.,  0.],\n",
    "       [ 1.,  0.,  0.,  0.,  0.,  0.,  0.,  0.,  0.,  0.]])     \n",
    "\n",
    "# y: the halves of the sequence do match -> 1\n",
    "array([ 1])\n",
    "\n",
    "# sequence\n",
    "array([2, 0, 2, 0])\n",
    "```"
   ]
  },
  {
   "cell_type": "code",
   "execution_count": null,
   "id": "a38be11b",
   "metadata": {},
   "outputs": [],
   "source": [
    "def generate_sequence(pattern_length_min=1, pattern_length_max=10, palindrome=False):\n",
    "    \"\"\"\n",
    "    Randomly generate a sequence consisting of two equal-length patterns of digits,\n",
    "    concatenated end-to-end.\n",
    "\n",
    "    There should be a 50% chance that the two patterns are *identical* and a 50%\n",
    "    chance that the two patterns are distinct.\n",
    "\n",
    "    Parameters\n",
    "    ----------\n",
    "    pattern_length_min : int, optional (default=1)\n",
    "       The smallest permissable length of the pattern (half the length of the\n",
    "       smallest sequence)\n",
    "\n",
    "    pattern_length_max : int, optional (default=10)\n",
    "       The longest permissable length of the pattern (half the length of the\n",
    "       longest sequence)\n",
    "\n",
    "    palindome : bool, optional (default=False)\n",
    "        If `True`, instead of a sequence with the two identical patterns, generate\n",
    "        a palindrome instead.\n",
    "\n",
    "    Returns\n",
    "    -------\n",
    "    Tuple[numpy.ndarray, numpy.ndarray, numpy.ndarray]\n",
    "        1. the one-hot encoded sequence; shape-(T, 10)\n",
    "        2. the label for the sequence: 0 (halves don't match), 1 (halves match); shape-(1,)\n",
    "        3. the actual sequence of digits; shape-(T,)\n",
    "    \"\"\"\n",
    "    # STUDENT CODE HERE"
   ]
  },
  {
   "cell_type": "markdown",
   "id": "2e6457fb",
   "metadata": {},
   "source": [
    "Test your `generate_sequence` function manually.\n",
    "- Does it produce sequences within the desired length bounds?\n",
    "- Does `x` correspond to `sequence`, with the appropriate one-hot encoding?\n",
    "- Does `y` indicate `array([1])` when the halves of the sequence match?\n",
    "\n",
    "Consider writing some code with assert statements that will raise if any of these checks fail/"
   ]
  },
  {
   "cell_type": "code",
   "execution_count": null,
   "id": "fd431555",
   "metadata": {},
   "outputs": [],
   "source": [
    "# STUDENT CODE HERE"
   ]
  },
  {
   "cell_type": "markdown",
   "id": "abb60b51",
   "metadata": {},
   "source": [
    "Set up a noggin plot, as you will want to observe the loss and accuracy during training."
   ]
  },
  {
   "cell_type": "code",
   "execution_count": null,
   "id": "d4bd0e72",
   "metadata": {},
   "outputs": [],
   "source": [
    "from noggin import create_plot\n",
    "# STUDENT CODE HERE"
   ]
  },
  {
   "cell_type": "markdown",
   "id": "375cb686",
   "metadata": {},
   "source": [
    "Recall that each digit has a one-hot encoding, which means that $C=10$ (`input_dim`). A sensible hidden-descriptor dimensionality is $D=50$ (`dim_recurrent`). Lastly, we are solving a *two-class* classification problem (0 $\\rightarrow$ no pattern match, 1 $\\rightarrow$ pattern match), and thus $K=2$ (`dim_output`). Initialize your model accordingly.\n",
    "\n",
    "Set up an Adam optimizer. Pass the Adam optimizer your model's learnable parameters. Otherwise use its default learning rate and other hyperparameters. Feel free to mess with these later.\n",
    "\n"
   ]
  },
  {
   "cell_type": "code",
   "execution_count": null,
   "id": "328024b2",
   "metadata": {},
   "outputs": [],
   "source": [
    "# STUDENT CODE HERE"
   ]
  },
  {
   "cell_type": "markdown",
   "id": "022db572",
   "metadata": {},
   "source": [
    "Train the model for 100000 iterations. Instead of pre-generating a set of training sequences, we'll use a strategy of randomly sampling a new input sequence every iteration using the method you created earlier. Use pattern_length_min = 1 and pattern_length_max = 10.\n",
    "\n",
    "**Do not plot batch-level metrics. We will be processing so many sequences, that plotting all the losses and accuracies will become a performance bottleneck**. You can set your loss and accuracy for each batch without plotting, using\n",
    "\n",
    "```python\n",
    "plotter.set_train_batch({\"loss\":loss.item(), \"accuracy\":acc},\n",
    "                        batch_size=1,\n",
    "                        plot=False)\n",
    "```\n",
    "\n",
    "And then for every 500th batch (or whatever you want), call:\n",
    "\n",
    "```python\n",
    "plotter.set_train_epoch()\n",
    "```\n",
    "\n",
    "This will plot mean statistics for your model's performance instead of the accuracy and loss for every single input."
   ]
  },
  {
   "cell_type": "code",
   "execution_count": null,
   "id": "b3f814a7",
   "metadata": {},
   "outputs": [],
   "source": [
    "# STUDENT CODE HERE"
   ]
  },
  {
   "cell_type": "markdown",
   "id": "9fab86f4",
   "metadata": {},
   "source": [
    "### Accuracy vs Sequence Length\n",
    "\n",
    "Create a plot of accuracy vs sequence length. To do so, randomly generate sequences (which will be of various lengths), apply the trained model to get the predicted outputs, and record whether the model predictions are correct or not. Then compute accuracy for sequences of length 2, for sequences of length 4, etc. (hint: Keep track of total and total correct for each possible length).\n",
    "\n",
    "MyGrad note: Because we are simply evaluating the model and have no reason to compute gradients, use the `no_autodiff` context manager to tell MyGrad not to keep track of the computational graph and speed up the evaluations."
   ]
  },
  {
   "cell_type": "code",
   "execution_count": null,
   "id": "678800cb",
   "metadata": {},
   "outputs": [],
   "source": [
    "# STUDENT CODE HERE"
   ]
  },
  {
   "cell_type": "markdown",
   "id": "12fafba5",
   "metadata": {},
   "source": [
    "What do you notice about accuracy as sequence length increases? Is this expected? What might make long sequences hard to deal with? Discuss with a neighbor!\n",
    "\n",
    "What happens if you apply the model to a sequence that's longer than examples it's been trained on? What happens if we train on and try to classify palindromes? Try messing around with our model and exploring the results."
   ]
  },
  {
   "cell_type": "markdown",
   "id": "0b457673",
   "metadata": {},
   "source": [
    "### View the computational graph formed from processing a sequence\n",
    "\n",
    "We can view the computational graph that results from feeding a sequence through the RNN using MyGrad's awesome `build_graph` capability."
   ]
  },
  {
   "cell_type": "code",
   "execution_count": null,
   "id": "3eff0a4b",
   "metadata": {},
   "outputs": [],
   "source": [
    "from mygrad.computational_graph import build_graph\n",
    "x, target, sequence = generate_sequence()\n",
    "\n",
    "output = model(x)\n",
    "\n",
    "loss = softmax_crossentropy(output, target)\n",
    "build_graph(loss, names=locals(), render=True)"
   ]
  }
 ],
 "metadata": {
  "jupytext": {
   "notebook_metadata_filter": "nbsphinx"
  },
  "kernelspec": {
   "display_name": "Python [conda env:week3]",
   "language": "python",
   "name": "conda-env-week3-py"
  },
  "nbsphinx": {
   "execute": "never"
  }
 },
 "nbformat": 4,
 "nbformat_minor": 5
}
