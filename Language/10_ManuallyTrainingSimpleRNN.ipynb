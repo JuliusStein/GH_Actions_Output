{
 "cells": [
  {
   "cell_type": "markdown",
   "id": "f4c245be",
   "metadata": {},
   "source": [
    "# Manually Training a Simple RNN for the Even Odd Problem --"
   ]
  },
  {
   "cell_type": "code",
   "execution_count": null,
   "id": "814c6f69",
   "metadata": {},
   "outputs": [],
   "source": [
    "import numpy as np\n",
    "\n",
    "import matplotlib.pyplot as plt\n",
    "%matplotlib notebook"
   ]
  },
  {
   "cell_type": "markdown",
   "id": "e0941a4b",
   "metadata": {},
   "source": [
    "Recall how a straightforward dense neural network struggled to learn the even-odd problem in previous notebook:\n",
    "\n",
    ">Given an input vector of zeros and ones, predict `1` if the number of ones in the vector is even, and predict `0` if the number of ones in the vector is odd.\n",
    "\n",
    "In this notebook, we'll show how a very simple RNN (with a hidden state of size 2) can solve the problem.\n",
    "\n",
    "We'll use the \"simple\" (aka \"vanilla\") RNN equation:\n",
    "\n",
    "\\begin{equation}\n",
    "h_t = f_h(x_t W_{xh} + h_{t-1} W_{hh} + b_h) \\\\\n",
    "y_t = f_y(h_t W_{hy} + b_y)\n",
    "\\end{equation}\n",
    "\n",
    "where $h_t$ is the hidden (or recurrent) state of the cell and $x_t$ is the sequence-element at step-$t$, for $t=0, 1, \\dots, T-1$ (with $T$ as the length of our sequence). $y_{T-1}$ is the final output. The $W$ and $b$ parameters are the *learnable parameters of our model*. Specifically:\n",
    "\n",
    "- $x_t$ is a descriptor-vector for entry-$t$ in our sequence of data. It has a shape-$(1, C)$.\n",
    "- $h_t$ is a \"hidden-descriptor\", which encodes information about $x_t$ *and* information about the preceding entries in our sequence of data, via $h_{t-1}$. It has a shape-$(1, D)$, where $D$ is the dimensionality that we choose for our hidden descriptors (akin to layer size).\n",
    "- $W_{xh}$ and $b_h$ hold dense-layer weights and biases, respectively, which are used to process our data $x_t$ in order to form $h_t$. Thus $W_{xh}$ has shape $(C, D)$ and $b_h$ has shape-$(1,D)$.\n",
    "- $W_{hh}$ hold dense-layer weights, which are used to process our previous hidden-descriptor $h_{t-1}$ in order to form $h_t$. Thus $W_{hh}$ has shape $(D, D)$.\n",
    "- $W_{hy}$ and $b_y$ hold dense-layer weights and biases, respectively, which are used to process our final hidden-descriptor $h_T$ in order to produce our classification scores, $y_T$. Thus $W_{hy}$ has shape $(D, K)$ and $b_h$ has shape-$(1,K)$. Where $K$ is our number of classes. See that, given our input sequence $x$, we are ultimately producing $y_{T-1}$ of shape-$(1, K)$.\n",
    "\n",
    "These equations thus say that new hidden state ($h_t$) combines current input ($x_t$) and previous hidden state ($h_{t-1}$), then applies an activation function ($f_h$, e.g., $\\tanh$ or $\\text{ReLU}$). The output ($y_t$) is then a function of the new hidden state (not necessarily applying the same activation function).\n",
    "\n",
    "Note: You may see some variations in how simple RNN cells are formulated. Some don't apply an activation function to the output. Some first compute output as a function of the current state and input, and then update the current state to be this output. But the key similarity is that output is ultimately a function of input and a hidden state which is dependant on previous inputs.\n",
    "\n",
    "It turns out we can solve the even-odd problem with a hidden state of dimension 2.\n",
    "\n",
    "On top of that, we can figure out what the weights should be by hand, without having to use MyGrad!"
   ]
  },
  {
   "cell_type": "markdown",
   "id": "c26799e1",
   "metadata": {},
   "source": [
    "## Desired Behavior of the RNN\n",
    "\n",
    "Let the output $y_t$ of the RNN cell at sequence-step $t$ be 1 if there have been an even number of ones in the sequence so far and 0 if there have been an \"odd\" number of ones seen so far. Then the following logic is what we want to reproduce:\n",
    "\n",
    "| $y_{t-1}$ | $x_t$ | $y_{t}$ | meaning |\n",
    "|:---------:|:-----:|:-------:|:------- |\n",
    "| 1         | 1     | 0       | even so far, see 1, now odd |\n",
    "| 1         | 0     | 1       | even so far, see 0, stay even |\n",
    "| 0         | 1     | 1       | odd so far, see 1, now even |\n",
    "| 0         | 0     | 0       | odd so far, see 0, stay odd |\n",
    "\n",
    "This should look familiar: it's exactly the XOR problem! If you aren't familiar with the XOR problem, know that it is simply a type of boolean operation, much like AND or OR. XOR will only return True (or alternatively 1) if both inputs have *different* boolean values.\n",
    "\n",
    "The XOR problem cannot be solved by a neural network that has no hidden layers. Instead, the network needs intermediate \"helpers\" (nodes in a hidden layer) that compute OR and NAND (which can then be combined into the final XOR).\n",
    "\n",
    "So we can't just have a single hidden value representing even/odd with output $y$ just spitting out the hidden state. This would run into the same problem as XOR. For this problem we'll need a hidden state of size $D=2$. Let $h_t$, the hidden state at time $t$, have the following interpretation:\n",
    "\n",
    "\\begin{equation}\n",
    "h_t = \\begin{bmatrix}h^\\text{OR}_t & h^\\text{NAND}_t\\end{bmatrix}\n",
    "\\end{equation}\n",
    "\n",
    "where\n",
    "* $h^\\text{OR}_t$ will mean that the previous output $y_{t-1}$ was 1 (\"even\") **OR** the current input $x_t$ is 1, or both\n",
    "* $h^\\text{NAND}_t$ will mean it's **NOT** the case that previous output $y_{t-1}$ was 1 (\"even\") **AND** the current input $x_t$ is 1\n",
    "\n",
    "So the hidden variables and output at time $t$ are related to certain values from time $t-1$:\n",
    "\n",
    "> $h^\\text{OR}_{t}$ is a function of $y_{t-1}$ and $x_t$\n",
    "\n",
    "> $h^\\text{NAND}_{t}$ is a function of $y_{t-1}$ and $x_t$\n",
    "\n",
    "> $y_{t}$ is a function of $h^\\text{OR}_{t}$ and $h^\\text{NAND}_{t}$\n",
    "\n",
    "However, based on how the RNN equations are set up, the RNN cell will only have access to the previous hidden state and the current input at each step (not the actual last output). So the RNN will use $h^\\text{OR}_{t-1}$ and $h^\\text{NAND}_{t-1}$ (which will be sufficient):\n",
    "\n",
    "> $h^\\text{OR}_{t}$ is function of $h^\\text{OR}_{t-1}$, $h^\\text{NAND}_{t-1}$, and $x_t$\n",
    "\n",
    "> $h^\\text{NAND}_{t}$ is function of $h^\\text{OR}_{t-1}$, $h^\\text{NAND}_{t-1}$, and $x_t$\n",
    "\n",
    "> $y_{t}$ is function of $h^\\text{OR}_{t}$ and $h^\\text{NAND}_{t}$\n",
    "\n"
   ]
  },
  {
   "cell_type": "markdown",
   "id": "5e55e256",
   "metadata": {},
   "source": [
    "With this setup, we can now make a table showing the complete desired dynamics of the RNN for solving the even/odd problem. That is, given values of the previous hidden state and current input, we want the RNN to produce particular values for new hidden state and output:\n",
    "\n",
    "| $h^\\text{OR}_{t-1}$ | $h^\\text{NAND}_{t-1}$ | $y_{t-1}$ | $x_t$ | $h^\\text{OR}_{t}$ | $h^\\text{NAND}_{t}$ | $y_{t}$ |\n",
    "|:-------------------:|:---------------------:|:---------:|:-----:|:-----------------:|:-------------------:|:-------:|\n",
    "| 1                   | 1                     | 1         | 1     | 1                 | 0                   | 0       |\n",
    "| 1                   | 1                     | 1         | 0     | 1                 | 1                   | 1       |\n",
    "| 1                   | 0                     | 0         | 1     | 1                 | 1                   | 1       |\n",
    "| 1                   | 0                     | 0         | 0     | 0                 | 1                   | 0       |\n",
    "| 0                   | 1                     | 0         | 1     | 1                 | 1                   | 1       |\n",
    "| 0                   | 1                     | 0         | 0     | 0                 | 1                   | 0       |\n"
   ]
  },
  {
   "cell_type": "markdown",
   "id": "b4d6d4fb",
   "metadata": {},
   "source": [
    "## Finding Weights and Biases\n",
    "\n",
    "Recall the simple RNN equations:\n",
    "\n",
    "\\begin{equation}\n",
    "h_t = f_h(x_t W_{xh} + h_{t-1} W_{hh} + b_h) \\\\\n",
    "y_t = f_y(h_t W_{hy} + b_y)\n",
    "\\end{equation}\n",
    "\n",
    "For simplicity, we'll use the \"hard sigmoid\" for the activation functions, which maps positive inputs to 1 and non-positive inputs to 0:\n",
    "\n",
    "```python\n",
    "f(x) = (np.sign(x) + 1) / 2\n",
    "```\n",
    "\n",
    "That way we can just focus on finding weights that make the arguments to the hardsigmoid activations:\n",
    "\n",
    "\\begin{equation}\n",
    "x_t W_{xh} + h_{t-1} W_{hh} + b_h\n",
    "\\end{equation}\n",
    "\n",
    "and\n",
    "\n",
    "\\begin{equation}\n",
    "h_t W_{hy} + b_y\n",
    "\\end{equation}\n",
    "\n",
    "positive or negative as needed."
   ]
  },
  {
   "cell_type": "markdown",
   "id": "81b4f2ef",
   "metadata": {},
   "source": [
    "Define the `hardsigmoid` activation function and plot it on [-2, 2] using 1000 points."
   ]
  },
  {
   "cell_type": "code",
   "execution_count": null,
   "id": "5f4a7ec1",
   "metadata": {},
   "outputs": [],
   "source": [
    "# STUDENT CODE HERE"
   ]
  },
  {
   "cell_type": "markdown",
   "id": "819e29d9",
   "metadata": {},
   "source": [
    "### Finding the weights to produce $h^\\text{OR}_t$"
   ]
  },
  {
   "cell_type": "markdown",
   "id": "f97da9ee",
   "metadata": {},
   "source": [
    "Writing out the update equation for $h_t$ more explicitly, we have:\n",
    "\n",
    "\\begin{equation}\n",
    "\\begin{bmatrix}h^\\text{OR}_t & h^\\text{NAND}_t\\end{bmatrix} = \\text{hardsigmoid}\\left(x_t\\begin{bmatrix}W_{xh}^{(0,0)} & W_{xh}^{(0,1)}\\end{bmatrix} + \\begin{bmatrix}h^\\text{OR}_{t-1} & h^\\text{NAND}_{t-1}\\end{bmatrix}\\begin{bmatrix}W_{hh}^{(0,0)} & W_{hh}^{(0,1)} \\\\ W_{hh}^{(1,0)} & W_{hh}^{(1,1)} \\end{bmatrix} +\n",
    "\\begin{bmatrix}b^\\text{OR} & b^\\text{NAND}\\end{bmatrix}\\right)\n",
    "\\end{equation}\n",
    "\n",
    "Looking at just $h^\\text{OR}_t$ for now, we have\n",
    "\n",
    "\\begin{equation}\n",
    "h^\\text{OR}_t = \\text{hardsigmoid}\\left(x_t W_{xh}^{(0,0)} +  h^\\text{OR}_{t-1}\\cdot W_{hh}^{(0,0)}  + h^\\text{NAND}_{t-1}\\cdot W_{hh}^{(1,0)}  + b^\\text{OR}\\right)\n",
    "\\end{equation}\n",
    "\n",
    "Incorporating actual values from the table and focusing on the sign of the input to $f$ (hard-sigmoid), we ultimately arrive at a system of six constraints:\n",
    "\n",
    "\\begin{equation}\n",
    "\\begin{bmatrix}\n",
    "1 & 1 & 1 \\\\\n",
    "0 & 1 & 1 \\\\\n",
    "1 & 1 & 0 \\\\\n",
    "0 & 1 & 0 \\\\\n",
    "1 & 0 & 1 \\\\\n",
    "0 & 0 & 1 \\\\\n",
    "\\end{bmatrix}\n",
    "\\begin{bmatrix}\n",
    "W_{xh}^{(0,0)} \\\\\n",
    "W_{hh}^{(0,0)} \\\\\n",
    "W_{hh}^{(1,0)} \\\\\n",
    "\\end{bmatrix}\n",
    "+ b^\\text{OR}\n",
    "\\longrightarrow\n",
    "\\begin{bmatrix}\n",
    "+ \\\\\n",
    "+ \\\\\n",
    "+ \\\\\n",
    "- \\\\\n",
    "+ \\\\\n",
    "- \\\\\n",
    "\\end{bmatrix}\n",
    "\\end{equation}\n",
    "\n",
    "where the 3 columns correspond to $x_t$, $h^\\text{OR}_{t-1}$, and $h^\\text{NAND}_{t-1}$ and the plusses and minuses on the right correspond to $h^\\text{OR}_t$.\n",
    "\n",
    "Now find (by hand!) a set of weights that satisfy these constraints!"
   ]
  },
  {
   "cell_type": "code",
   "execution_count": null,
   "id": "0ac3858f",
   "metadata": {},
   "outputs": [],
   "source": [
    "# here's the matrix from the equation above,\n",
    "# you can use for experimenting and testing\n",
    "A = np.array([[1, 1, 1],\n",
    "              [0, 1, 1],\n",
    "              [1, 1, 0],\n",
    "              [0, 1, 0],\n",
    "              [1, 0, 1],\n",
    "              [0, 0, 1]])\n",
    "\n",
    "# STUDENT CODE HERE"
   ]
  },
  {
   "cell_type": "markdown",
   "id": "70705530",
   "metadata": {},
   "source": [
    "Test your weights. You should get, after passing your vector through the hard-sigmoid activation, `array([ 1.,  1.,  1.,  0.,  1.,  0.])` which matches table column for $h^{OR}_{t}$."
   ]
  },
  {
   "cell_type": "markdown",
   "id": "a85e5e50",
   "metadata": {},
   "source": [
    "### Finding the weights to produce $h^\\text{NAND}_t$\n",
    "\n",
    "Let's repeat the process for $h^\\text{NAND}_t$:\n",
    "\n",
    "\\begin{equation}\n",
    "h^\\text{NAND}_t = \\text{hardsigmoid}\\left(x_t W_{xh}^{(0,1)} +  h^\\text{OR}_{t-1}\\cdot W_{hh}^{(0,1)}  + h^\\text{NAND}_{t-1}\\cdot W_{hh}^{(1,1)}  + b^\\text{NAND}\\right)\n",
    "\\end{equation}\n",
    "\n",
    "We can derive the following constraints for $h^\\text{NAND}$ from the table:\n",
    "\\begin{equation}\n",
    "\\begin{bmatrix}\n",
    "1 & 1 & 1 \\\\\n",
    "0 & 1 & 1 \\\\\n",
    "1 & 1 & 0 \\\\\n",
    "0 & 1 & 0 \\\\\n",
    "1 & 0 & 1 \\\\\n",
    "0 & 0 & 1 \\\\\n",
    "\\end{bmatrix}\n",
    "\\begin{bmatrix}\n",
    "W_{xh}^{(0,1)} \\\\\n",
    "W_{hh}^{(0,1)} \\\\\n",
    "W_{hh}^{(1,1)} \\\\\n",
    "\\end{bmatrix}\n",
    "+ b^\\text{NAND}\n",
    "\\longrightarrow\n",
    "\\begin{bmatrix}\n",
    "- \\\\\n",
    "+ \\\\\n",
    "+ \\\\\n",
    "+ \\\\\n",
    "+ \\\\\n",
    "+ \\\\\n",
    "\\end{bmatrix}\n",
    "\\end{equation}\n",
    "\n",
    "Again, find the parameters that satisfy these constraints."
   ]
  },
  {
   "cell_type": "code",
   "execution_count": null,
   "id": "f07ed9c2",
   "metadata": {},
   "outputs": [],
   "source": [
    "# STUDENT CODE HERE"
   ]
  },
  {
   "cell_type": "markdown",
   "id": "b429ecd5",
   "metadata": {},
   "source": [
    "Test your weights. You should get `[ 0.,  1.,  1.,  1.,  1.,  1.]` which matches table column for $h^{NAND}_{t}$."
   ]
  },
  {
   "cell_type": "markdown",
   "id": "f1cc57ee",
   "metadata": {},
   "source": [
    "### Weights for $y_t$\n",
    "\n",
    "Finally, let's finish up with $y_t$:\n",
    "\n",
    "\\begin{equation}\n",
    "y_t = \\text{hardsigmoid}\\left(\\begin{bmatrix}h^{OR}_t & h^{NAND}_t\\end{bmatrix}\n",
    "\\begin{bmatrix}W_{hy}^{(0,0)} \\\\ W_{hy}^{(1,0)}\\end{bmatrix}+ b_y\\right)\n",
    "\\end{equation}\n",
    "\n",
    "Deriving constraints from the table, we get:\n",
    "\n",
    "\\begin{equation}\n",
    "\\begin{bmatrix}\n",
    "1 & 0 \\\\\n",
    "1 & 1 \\\\\n",
    "1 & 1 \\\\\n",
    "0 & 1 \\\\\n",
    "1 & 1 \\\\\n",
    "0 & 1 \\\\\n",
    "\\end{bmatrix}\n",
    "\\begin{bmatrix}\n",
    "W_{hy}^{(0,0)} \\\\\n",
    "W_{hy}^{(1,0)}\n",
    "\\end{bmatrix}\n",
    "+ b_y\n",
    "\\longrightarrow\n",
    "\\begin{bmatrix}\n",
    "- \\\\\n",
    "+ \\\\\n",
    "+ \\\\\n",
    "- \\\\\n",
    "+ \\\\\n",
    "- \\\\\n",
    "\\end{bmatrix}\n",
    "\\end{equation}\n",
    "\n",
    "Find values for the unknowns to make this constraints work."
   ]
  },
  {
   "cell_type": "code",
   "execution_count": null,
   "id": "290e98e8",
   "metadata": {},
   "outputs": [],
   "source": [
    "# here's a new A matrix for experimenting\n",
    "A = np.array([[1, 0],\n",
    "              [1, 1],\n",
    "              [1, 1],\n",
    "              [0, 1],\n",
    "              [1, 1],\n",
    "              [0, 1]])\n",
    "\n",
    "# STUDENT CODE HERE"
   ]
  },
  {
   "cell_type": "markdown",
   "id": "dfef6381",
   "metadata": {},
   "source": [
    "Test your weights. You should get `[ 0.,  1.,  1.,  0.,  1.,  0.]`, which matches table column for $y_{t}$."
   ]
  },
  {
   "cell_type": "markdown",
   "id": "97af1be6",
   "metadata": {},
   "source": [
    "### Putting the Weights Together\n",
    "\n",
    "Based on what you've worked out, assemble all the necessary weights: `W_xh, W_hh, b_h, W_hy, b_y`\n",
    "\n",
    "The shapes should be:\n",
    "```python\n",
    ">>> print(W_xh.shape, W_hh.shape, b_h.shape, W_hy.shape, b_y.shape)\n",
    "(1, 2) (2, 2) (1, 2) (2, 1) (1, 1)\n",
    "```\n",
    "\n",
    "There are 11 total parameters in these matrices."
   ]
  },
  {
   "cell_type": "code",
   "execution_count": null,
   "id": "742ec6d4",
   "metadata": {},
   "outputs": [],
   "source": [
    "# STUDENT CODE HERE"
   ]
  },
  {
   "cell_type": "markdown",
   "id": "6e5047b5",
   "metadata": {},
   "source": [
    "## Testing our RNN\n",
    "\n",
    "Now let's actually apply our RNN. Complete the step function, which takes one time step in our RNN according to the equations:\n",
    "\n",
    "\\begin{equation}\n",
    "h_t = \\text{hardsigmoid}(x_t W_{xh} + h_{t-1} W_{hh} + b_h) \\\\\n",
    "y_t = \\text{hardsigmoid}(h_t W_{hy} + b_y)\n",
    "\\end{equation}"
   ]
  },
  {
   "cell_type": "code",
   "execution_count": null,
   "id": "5a5330ea",
   "metadata": {},
   "outputs": [],
   "source": [
    "def step(W_xh, W_hh, b_h, W_hy, b_y, h, x):\n",
    "    \"\"\"\n",
    "    Applies forward pass of simple RNN according to equations:\n",
    "        h_t = hardsigmoid(x_t W_{xh} + h_{t-1} W_{hh} + b_h)\n",
    "        y_t = hardsigmoid(h_t W_{hy} + b_y)\n",
    "\n",
    "    Parameters\n",
    "    ----------\n",
    "    W_xh: ndarray, shape=(1, 2)\n",
    "        The weights used in computing h_t from the current value in the sequence\n",
    "\n",
    "    W_hh: ndarray, shape=(2, 2)\n",
    "        The weights used in computing h_t from the previous hidden state\n",
    "\n",
    "    b_h: ndarray, shape=(1, 2)\n",
    "        The bias used for computing the current hidden state\n",
    "\n",
    "    W_hy: ndarray, shape=(2, 1)\n",
    "        The weights used for computing y_t from h_t\n",
    "\n",
    "    b_y: ndarray, shape=(1, 1)\n",
    "        The bias for computing the y term\n",
    "\n",
    "    h: ndarray, shape=(1, 2)\n",
    "        The hidden state of the previous time step\n",
    "\n",
    "    x: int\n",
    "        The current value (1 or 0) in the even-odd sequence\n",
    "\n",
    "    Returns\n",
    "    -------\n",
    "    h_t: ndarray, shape=(1, 2)\n",
    "        The hidden state of the current time step\n",
    "\n",
    "    y_t: ndarray, shape=(1, 1)\n",
    "        An integer tracking whether the sequence is even (y=1) or odd (y=0)\n",
    "    \"\"\"\n",
    "    # STUDENT CODE HERE"
   ]
  },
  {
   "cell_type": "markdown",
   "id": "58aab723",
   "metadata": {},
   "source": [
    "Initialize hidden state to \"even\"."
   ]
  },
  {
   "cell_type": "code",
   "execution_count": null,
   "id": "8c01a962",
   "metadata": {},
   "outputs": [],
   "source": [
    "h = np.array([1., 1.]).reshape(1, 2) # </COGLINE>"
   ]
  },
  {
   "cell_type": "markdown",
   "id": "1ed45bab",
   "metadata": {},
   "source": [
    "Call step with initial hidden state and input x = 0. Verify that output is still \"even\" (y = 1)."
   ]
  },
  {
   "cell_type": "code",
   "execution_count": null,
   "id": "66f1be76",
   "metadata": {},
   "outputs": [],
   "source": [
    "# STUDENT CODE HERE"
   ]
  },
  {
   "cell_type": "markdown",
   "id": "62a1e25a",
   "metadata": {},
   "source": [
    "Call step with previous hidden state and input x = 1. Verify that output is now \"odd\" (y = 0)."
   ]
  },
  {
   "cell_type": "code",
   "execution_count": null,
   "id": "e616abe8",
   "metadata": {},
   "outputs": [],
   "source": [
    "# STUDENT CODE HERE"
   ]
  },
  {
   "cell_type": "markdown",
   "id": "da05e6b9",
   "metadata": {},
   "source": [
    "Call step with previous hidden state and input x = 1. Verify that output is \"even\" again (y = 1)."
   ]
  },
  {
   "cell_type": "code",
   "execution_count": null,
   "id": "d360a7be",
   "metadata": {},
   "outputs": [],
   "source": [
    "# STUDENT CODE HERE"
   ]
  },
  {
   "cell_type": "markdown",
   "id": "00dfd1ac",
   "metadata": {},
   "source": [
    "Now evaluate on sequences of 0s and 1s of various sizes and display the output values. You will want to iteratively call your `step ` function and save the resullting `y` values."
   ]
  },
  {
   "cell_type": "code",
   "execution_count": null,
   "id": "830ae2ec",
   "metadata": {},
   "outputs": [],
   "source": [
    "# STUDENT CODE HERE"
   ]
  },
  {
   "cell_type": "markdown",
   "id": "22007538",
   "metadata": {},
   "source": [
    "You were able to create a simple recurrent neural network (with just 11 parameters) that could do a task that a much more complex network (with many more parameters) failed to do!\n",
    "\n",
    "What mechanism allowed this? Do you think this simple version is flexible enough for harder problems? Discuss with a partner!"
   ]
  }
 ],
 "metadata": {
  "jupytext": {
   "notebook_metadata_filter": "nbsphinx"
  },
  "kernelspec": {
   "display_name": "Python 3",
   "language": "python",
   "name": "python3"
  },
  "nbsphinx": {
   "execute": "never"
  }
 },
 "nbformat": 4,
 "nbformat_minor": 5
}
